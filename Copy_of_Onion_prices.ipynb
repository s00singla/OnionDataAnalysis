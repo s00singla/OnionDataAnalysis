{
  "nbformat": 4,
  "nbformat_minor": 0,
  "metadata": {
    "colab": {
      "name": "Copy of Onion prices.ipynb",
      "provenance": []
    },
    "kernelspec": {
      "display_name": "Python 3",
      "name": "python3"
    },
    "language_info": {
      "name": "python"
    }
  },
  "cells": [
    {
      "cell_type": "code",
      "metadata": {
        "id": "g1F7eV9SdLU5"
      },
      "source": [
        "import numpy\n",
        "import matplotlib.pyplot as plt\n",
        "import pandas as pd\n",
        "import math\n",
        "from keras.models import Sequential\n",
        "from keras.layers import Dense\n",
        "from keras.layers import LSTM\n",
        "from sklearn.preprocessing import MinMaxScaler\n",
        "from sklearn.metrics import mean_squared_error\n",
        "from tensorflow import random"
      ],
      "execution_count": null,
      "outputs": []
    },
    {
      "cell_type": "markdown",
      "metadata": {
        "id": "a1E6WXRvv-BH"
      },
      "source": [
        "RAW DATA IMPORT"
      ]
    },
    {
      "cell_type": "code",
      "metadata": {
        "id": "BcQbei3Zdf95"
      },
      "source": [
        "onion_url='https://raw.githubusercontent.com/s00singla/MyPriceData/main/Delhi_Onion_Dec_2020.csv'\n",
        "dataframe = pd.read_csv(onion_url,parse_dates=[0],dayfirst=True)"
      ],
      "execution_count": null,
      "outputs": []
    },
    {
      "cell_type": "code",
      "metadata": {
        "id": "p1fuoFgndwoa"
      },
      "source": [
        "dataset = pd.read_csv(onion_url, usecols=[1], engine='python')\n",
        "dataset = dataset.values\n",
        "dataset = dataset.astype('float32')"
      ],
      "execution_count": null,
      "outputs": []
    },
    {
      "cell_type": "code",
      "metadata": {
        "id": "IcdJPGqneLVx"
      },
      "source": [
        "# normalize the dataset\n",
        "scaler = MinMaxScaler(feature_range=(0, 1))\n",
        "dataset = scaler.fit_transform(dataset)"
      ],
      "execution_count": null,
      "outputs": []
    },
    {
      "cell_type": "code",
      "metadata": {
        "id": "P3-cxYkK5mwM"
      },
      "source": [
        "def encode(data, col, max_val):\n",
        "    data[col + '_sin'] = np.sin(2 * np.pi * data[col]/max_val)\n",
        "    data[col + '_cos'] = np.cos(2 * np.pi * data[col]/max_val)\n",
        "    return data"
      ],
      "execution_count": null,
      "outputs": []
    },
    {
      "cell_type": "code",
      "metadata": {
        "colab": {
          "base_uri": "https://localhost:8080/"
        },
        "id": "qyE124W-eREK",
        "outputId": "fc965c22-0227-43cb-b54c-3240161d7f53"
      },
      "source": [
        "# split into train and test sets\n",
        "train_size = int(len(dataset) * 0.87)\n",
        "test_size = len(dataset) - train_size\n",
        "train, test = dataset[0:train_size,:], dataset[train_size:len(dataset),:]\n",
        "print(len(train), len(test))"
      ],
      "execution_count": null,
      "outputs": [
        {
          "output_type": "stream",
          "text": [
            "167 26\n"
          ],
          "name": "stdout"
        }
      ]
    },
    {
      "cell_type": "code",
      "metadata": {
        "id": "R1S_JIiUe60K"
      },
      "source": [
        "# convert an array of values into a dataset matrix\n",
        "def create_dataset(dataset, look_back=1):\n",
        "\tdataX, dataY = [], []\n",
        "\tfor i in range(len(dataset)-look_back-1):\n",
        "\t\ta = dataset[i:(i+look_back), 0]\n",
        "\t\tdataX.append(a)\n",
        "\t\tdataY.append(dataset[i + look_back, 0])\n",
        "\treturn numpy.array(dataX), numpy.array(dataY)"
      ],
      "execution_count": null,
      "outputs": []
    },
    {
      "cell_type": "code",
      "metadata": {
        "id": "BaPmFj7mfJAs"
      },
      "source": [
        "# reshape into X=t and Y=t+1\n",
        "look_back = 1\n",
        "trainX, trainY = create_dataset(train, look_back)\n",
        "testX, testY = create_dataset(test, look_back)\n",
        "# reshape input to be [samples, time steps, features]\n",
        "trainX = numpy.reshape(trainX, (trainX.shape[0], 1, trainX.shape[1]))\n",
        "testX = numpy.reshape(testX, (testX.shape[0], 1, testX.shape[1]))"
      ],
      "execution_count": null,
      "outputs": []
    },
    {
      "cell_type": "code",
      "metadata": {
        "colab": {
          "base_uri": "https://localhost:8080/"
        },
        "id": "dJuixJnpfQgq",
        "outputId": "b94dbbea-96e3-4430-e689-febdbda0c10a"
      },
      "source": [
        "# fix random seed for reproducibility\n",
        "numpy.random.seed(1226)\n",
        "random.set_seed(1226)\n",
        "\n",
        "# create and fit the LSTM network\n",
        "model = Sequential()\n",
        "model.add(LSTM(16, input_shape=(1, look_back), return_sequences=True))\n",
        "model.add(LSTM(8, dropout=0.2,return_sequences= True))#,return_sequences= True\n",
        "model.add(LSTM(4, dropout=0.1))\n",
        "model.add(Dense(1))\n",
        "model.compile(loss='mean_squared_error', optimizer='adam')\n",
        "model.fit(trainX, trainY, epochs=200, batch_size= 1, verbose=2)"
      ],
      "execution_count": null,
      "outputs": [
        {
          "output_type": "stream",
          "text": [
            "Epoch 1/200\n",
            "165/165 - 5s - loss: 0.0204\n",
            "Epoch 2/200\n",
            "165/165 - 0s - loss: 0.0166\n",
            "Epoch 3/200\n",
            "165/165 - 0s - loss: 0.0153\n",
            "Epoch 4/200\n",
            "165/165 - 0s - loss: 0.0134\n",
            "Epoch 5/200\n",
            "165/165 - 0s - loss: 0.0113\n",
            "Epoch 6/200\n",
            "165/165 - 0s - loss: 0.0074\n",
            "Epoch 7/200\n",
            "165/165 - 0s - loss: 0.0057\n",
            "Epoch 8/200\n",
            "165/165 - 0s - loss: 0.0060\n",
            "Epoch 9/200\n",
            "165/165 - 0s - loss: 0.0057\n",
            "Epoch 10/200\n",
            "165/165 - 0s - loss: 0.0061\n",
            "Epoch 11/200\n",
            "165/165 - 0s - loss: 0.0054\n",
            "Epoch 12/200\n",
            "165/165 - 0s - loss: 0.0057\n",
            "Epoch 13/200\n",
            "165/165 - 0s - loss: 0.0053\n",
            "Epoch 14/200\n",
            "165/165 - 0s - loss: 0.0050\n",
            "Epoch 15/200\n",
            "165/165 - 0s - loss: 0.0061\n",
            "Epoch 16/200\n",
            "165/165 - 0s - loss: 0.0074\n",
            "Epoch 17/200\n",
            "165/165 - 0s - loss: 0.0066\n",
            "Epoch 18/200\n",
            "165/165 - 0s - loss: 0.0066\n",
            "Epoch 19/200\n",
            "165/165 - 0s - loss: 0.0055\n",
            "Epoch 20/200\n",
            "165/165 - 0s - loss: 0.0055\n",
            "Epoch 21/200\n",
            "165/165 - 0s - loss: 0.0060\n",
            "Epoch 22/200\n",
            "165/165 - 0s - loss: 0.0060\n",
            "Epoch 23/200\n",
            "165/165 - 0s - loss: 0.0056\n",
            "Epoch 24/200\n",
            "165/165 - 0s - loss: 0.0051\n",
            "Epoch 25/200\n",
            "165/165 - 0s - loss: 0.0051\n",
            "Epoch 26/200\n",
            "165/165 - 0s - loss: 0.0050\n",
            "Epoch 27/200\n",
            "165/165 - 0s - loss: 0.0056\n",
            "Epoch 28/200\n",
            "165/165 - 0s - loss: 0.0072\n",
            "Epoch 29/200\n",
            "165/165 - 0s - loss: 0.0061\n",
            "Epoch 30/200\n",
            "165/165 - 0s - loss: 0.0057\n",
            "Epoch 31/200\n",
            "165/165 - 0s - loss: 0.0051\n",
            "Epoch 32/200\n",
            "165/165 - 0s - loss: 0.0050\n",
            "Epoch 33/200\n",
            "165/165 - 0s - loss: 0.0049\n",
            "Epoch 34/200\n",
            "165/165 - 0s - loss: 0.0054\n",
            "Epoch 35/200\n",
            "165/165 - 0s - loss: 0.0055\n",
            "Epoch 36/200\n",
            "165/165 - 0s - loss: 0.0048\n",
            "Epoch 37/200\n",
            "165/165 - 0s - loss: 0.0054\n",
            "Epoch 38/200\n",
            "165/165 - 0s - loss: 0.0056\n",
            "Epoch 39/200\n",
            "165/165 - 0s - loss: 0.0052\n",
            "Epoch 40/200\n",
            "165/165 - 0s - loss: 0.0051\n",
            "Epoch 41/200\n",
            "165/165 - 0s - loss: 0.0058\n",
            "Epoch 42/200\n",
            "165/165 - 0s - loss: 0.0052\n",
            "Epoch 43/200\n",
            "165/165 - 0s - loss: 0.0063\n",
            "Epoch 44/200\n",
            "165/165 - 0s - loss: 0.0054\n",
            "Epoch 45/200\n",
            "165/165 - 0s - loss: 0.0054\n",
            "Epoch 46/200\n",
            "165/165 - 0s - loss: 0.0054\n",
            "Epoch 47/200\n",
            "165/165 - 0s - loss: 0.0051\n",
            "Epoch 48/200\n",
            "165/165 - 0s - loss: 0.0056\n",
            "Epoch 49/200\n",
            "165/165 - 0s - loss: 0.0051\n",
            "Epoch 50/200\n",
            "165/165 - 0s - loss: 0.0054\n",
            "Epoch 51/200\n",
            "165/165 - 0s - loss: 0.0054\n",
            "Epoch 52/200\n",
            "165/165 - 0s - loss: 0.0047\n",
            "Epoch 53/200\n",
            "165/165 - 0s - loss: 0.0052\n",
            "Epoch 54/200\n",
            "165/165 - 0s - loss: 0.0053\n",
            "Epoch 55/200\n",
            "165/165 - 0s - loss: 0.0052\n",
            "Epoch 56/200\n",
            "165/165 - 0s - loss: 0.0054\n",
            "Epoch 57/200\n",
            "165/165 - 0s - loss: 0.0056\n",
            "Epoch 58/200\n",
            "165/165 - 0s - loss: 0.0054\n",
            "Epoch 59/200\n",
            "165/165 - 0s - loss: 0.0053\n",
            "Epoch 60/200\n",
            "165/165 - 0s - loss: 0.0062\n",
            "Epoch 61/200\n",
            "165/165 - 0s - loss: 0.0055\n",
            "Epoch 62/200\n",
            "165/165 - 0s - loss: 0.0051\n",
            "Epoch 63/200\n",
            "165/165 - 0s - loss: 0.0055\n",
            "Epoch 64/200\n",
            "165/165 - 0s - loss: 0.0056\n",
            "Epoch 65/200\n",
            "165/165 - 0s - loss: 0.0055\n",
            "Epoch 66/200\n",
            "165/165 - 0s - loss: 0.0056\n",
            "Epoch 67/200\n",
            "165/165 - 0s - loss: 0.0050\n",
            "Epoch 68/200\n",
            "165/165 - 0s - loss: 0.0045\n",
            "Epoch 69/200\n",
            "165/165 - 0s - loss: 0.0051\n",
            "Epoch 70/200\n",
            "165/165 - 0s - loss: 0.0065\n",
            "Epoch 71/200\n",
            "165/165 - 0s - loss: 0.0053\n",
            "Epoch 72/200\n",
            "165/165 - 0s - loss: 0.0060\n",
            "Epoch 73/200\n",
            "165/165 - 0s - loss: 0.0049\n",
            "Epoch 74/200\n",
            "165/165 - 0s - loss: 0.0056\n",
            "Epoch 75/200\n",
            "165/165 - 0s - loss: 0.0050\n",
            "Epoch 76/200\n",
            "165/165 - 0s - loss: 0.0046\n",
            "Epoch 77/200\n",
            "165/165 - 0s - loss: 0.0053\n",
            "Epoch 78/200\n",
            "165/165 - 0s - loss: 0.0054\n",
            "Epoch 79/200\n",
            "165/165 - 0s - loss: 0.0052\n",
            "Epoch 80/200\n",
            "165/165 - 0s - loss: 0.0049\n",
            "Epoch 81/200\n",
            "165/165 - 0s - loss: 0.0054\n",
            "Epoch 82/200\n",
            "165/165 - 0s - loss: 0.0050\n",
            "Epoch 83/200\n",
            "165/165 - 0s - loss: 0.0055\n",
            "Epoch 84/200\n",
            "165/165 - 0s - loss: 0.0059\n",
            "Epoch 85/200\n",
            "165/165 - 0s - loss: 0.0056\n",
            "Epoch 86/200\n",
            "165/165 - 0s - loss: 0.0057\n",
            "Epoch 87/200\n",
            "165/165 - 0s - loss: 0.0062\n",
            "Epoch 88/200\n",
            "165/165 - 0s - loss: 0.0055\n",
            "Epoch 89/200\n",
            "165/165 - 0s - loss: 0.0056\n",
            "Epoch 90/200\n",
            "165/165 - 0s - loss: 0.0051\n",
            "Epoch 91/200\n",
            "165/165 - 0s - loss: 0.0045\n",
            "Epoch 92/200\n",
            "165/165 - 0s - loss: 0.0050\n",
            "Epoch 93/200\n",
            "165/165 - 0s - loss: 0.0056\n",
            "Epoch 94/200\n",
            "165/165 - 0s - loss: 0.0052\n",
            "Epoch 95/200\n",
            "165/165 - 0s - loss: 0.0056\n",
            "Epoch 96/200\n",
            "165/165 - 0s - loss: 0.0059\n",
            "Epoch 97/200\n",
            "165/165 - 0s - loss: 0.0051\n",
            "Epoch 98/200\n",
            "165/165 - 0s - loss: 0.0052\n",
            "Epoch 99/200\n",
            "165/165 - 0s - loss: 0.0057\n",
            "Epoch 100/200\n",
            "165/165 - 0s - loss: 0.0056\n",
            "Epoch 101/200\n",
            "165/165 - 0s - loss: 0.0049\n",
            "Epoch 102/200\n",
            "165/165 - 0s - loss: 0.0057\n",
            "Epoch 103/200\n",
            "165/165 - 0s - loss: 0.0062\n",
            "Epoch 104/200\n",
            "165/165 - 0s - loss: 0.0051\n",
            "Epoch 105/200\n",
            "165/165 - 0s - loss: 0.0052\n",
            "Epoch 106/200\n",
            "165/165 - 0s - loss: 0.0055\n",
            "Epoch 107/200\n",
            "165/165 - 0s - loss: 0.0053\n",
            "Epoch 108/200\n",
            "165/165 - 0s - loss: 0.0052\n",
            "Epoch 109/200\n",
            "165/165 - 0s - loss: 0.0050\n",
            "Epoch 110/200\n",
            "165/165 - 0s - loss: 0.0050\n",
            "Epoch 111/200\n",
            "165/165 - 0s - loss: 0.0045\n",
            "Epoch 112/200\n",
            "165/165 - 0s - loss: 0.0055\n",
            "Epoch 113/200\n",
            "165/165 - 0s - loss: 0.0053\n",
            "Epoch 114/200\n",
            "165/165 - 0s - loss: 0.0061\n",
            "Epoch 115/200\n",
            "165/165 - 0s - loss: 0.0061\n",
            "Epoch 116/200\n",
            "165/165 - 0s - loss: 0.0053\n",
            "Epoch 117/200\n",
            "165/165 - 0s - loss: 0.0056\n",
            "Epoch 118/200\n",
            "165/165 - 0s - loss: 0.0045\n",
            "Epoch 119/200\n",
            "165/165 - 0s - loss: 0.0063\n",
            "Epoch 120/200\n",
            "165/165 - 0s - loss: 0.0056\n",
            "Epoch 121/200\n",
            "165/165 - 0s - loss: 0.0048\n",
            "Epoch 122/200\n",
            "165/165 - 0s - loss: 0.0055\n",
            "Epoch 123/200\n",
            "165/165 - 0s - loss: 0.0051\n",
            "Epoch 124/200\n",
            "165/165 - 0s - loss: 0.0056\n",
            "Epoch 125/200\n",
            "165/165 - 0s - loss: 0.0058\n",
            "Epoch 126/200\n",
            "165/165 - 0s - loss: 0.0054\n",
            "Epoch 127/200\n",
            "165/165 - 0s - loss: 0.0053\n",
            "Epoch 128/200\n",
            "165/165 - 0s - loss: 0.0052\n",
            "Epoch 129/200\n",
            "165/165 - 0s - loss: 0.0052\n",
            "Epoch 130/200\n",
            "165/165 - 0s - loss: 0.0057\n",
            "Epoch 131/200\n",
            "165/165 - 0s - loss: 0.0056\n",
            "Epoch 132/200\n",
            "165/165 - 0s - loss: 0.0056\n",
            "Epoch 133/200\n",
            "165/165 - 0s - loss: 0.0050\n",
            "Epoch 134/200\n",
            "165/165 - 0s - loss: 0.0064\n",
            "Epoch 135/200\n",
            "165/165 - 0s - loss: 0.0056\n",
            "Epoch 136/200\n",
            "165/165 - 0s - loss: 0.0053\n",
            "Epoch 137/200\n",
            "165/165 - 0s - loss: 0.0046\n",
            "Epoch 138/200\n",
            "165/165 - 0s - loss: 0.0052\n",
            "Epoch 139/200\n",
            "165/165 - 0s - loss: 0.0047\n",
            "Epoch 140/200\n",
            "165/165 - 0s - loss: 0.0053\n",
            "Epoch 141/200\n",
            "165/165 - 0s - loss: 0.0054\n",
            "Epoch 142/200\n",
            "165/165 - 0s - loss: 0.0055\n",
            "Epoch 143/200\n",
            "165/165 - 0s - loss: 0.0055\n",
            "Epoch 144/200\n",
            "165/165 - 0s - loss: 0.0053\n",
            "Epoch 145/200\n",
            "165/165 - 0s - loss: 0.0059\n",
            "Epoch 146/200\n",
            "165/165 - 0s - loss: 0.0054\n",
            "Epoch 147/200\n",
            "165/165 - 0s - loss: 0.0054\n",
            "Epoch 148/200\n",
            "165/165 - 0s - loss: 0.0050\n",
            "Epoch 149/200\n",
            "165/165 - 0s - loss: 0.0060\n",
            "Epoch 150/200\n",
            "165/165 - 0s - loss: 0.0054\n",
            "Epoch 151/200\n",
            "165/165 - 0s - loss: 0.0057\n",
            "Epoch 152/200\n",
            "165/165 - 0s - loss: 0.0050\n",
            "Epoch 153/200\n",
            "165/165 - 0s - loss: 0.0052\n",
            "Epoch 154/200\n",
            "165/165 - 0s - loss: 0.0049\n",
            "Epoch 155/200\n",
            "165/165 - 0s - loss: 0.0050\n",
            "Epoch 156/200\n",
            "165/165 - 0s - loss: 0.0050\n",
            "Epoch 157/200\n",
            "165/165 - 0s - loss: 0.0049\n",
            "Epoch 158/200\n",
            "165/165 - 0s - loss: 0.0049\n",
            "Epoch 159/200\n",
            "165/165 - 0s - loss: 0.0055\n",
            "Epoch 160/200\n",
            "165/165 - 0s - loss: 0.0048\n",
            "Epoch 161/200\n",
            "165/165 - 0s - loss: 0.0052\n",
            "Epoch 162/200\n",
            "165/165 - 0s - loss: 0.0047\n",
            "Epoch 163/200\n",
            "165/165 - 0s - loss: 0.0050\n",
            "Epoch 164/200\n",
            "165/165 - 0s - loss: 0.0055\n",
            "Epoch 165/200\n",
            "165/165 - 0s - loss: 0.0050\n",
            "Epoch 166/200\n",
            "165/165 - 0s - loss: 0.0047\n",
            "Epoch 167/200\n",
            "165/165 - 0s - loss: 0.0053\n",
            "Epoch 168/200\n",
            "165/165 - 0s - loss: 0.0052\n",
            "Epoch 169/200\n",
            "165/165 - 0s - loss: 0.0053\n",
            "Epoch 170/200\n",
            "165/165 - 0s - loss: 0.0049\n",
            "Epoch 171/200\n",
            "165/165 - 0s - loss: 0.0051\n",
            "Epoch 172/200\n",
            "165/165 - 0s - loss: 0.0045\n",
            "Epoch 173/200\n",
            "165/165 - 0s - loss: 0.0054\n",
            "Epoch 174/200\n",
            "165/165 - 0s - loss: 0.0057\n",
            "Epoch 175/200\n",
            "165/165 - 0s - loss: 0.0055\n",
            "Epoch 176/200\n",
            "165/165 - 0s - loss: 0.0049\n",
            "Epoch 177/200\n",
            "165/165 - 0s - loss: 0.0053\n",
            "Epoch 178/200\n",
            "165/165 - 0s - loss: 0.0057\n",
            "Epoch 179/200\n",
            "165/165 - 0s - loss: 0.0054\n",
            "Epoch 180/200\n",
            "165/165 - 0s - loss: 0.0048\n",
            "Epoch 181/200\n",
            "165/165 - 0s - loss: 0.0062\n",
            "Epoch 182/200\n",
            "165/165 - 0s - loss: 0.0049\n",
            "Epoch 183/200\n",
            "165/165 - 0s - loss: 0.0051\n",
            "Epoch 184/200\n",
            "165/165 - 0s - loss: 0.0057\n",
            "Epoch 185/200\n",
            "165/165 - 0s - loss: 0.0059\n",
            "Epoch 186/200\n",
            "165/165 - 0s - loss: 0.0053\n",
            "Epoch 187/200\n",
            "165/165 - 0s - loss: 0.0053\n",
            "Epoch 188/200\n",
            "165/165 - 0s - loss: 0.0057\n",
            "Epoch 189/200\n",
            "165/165 - 0s - loss: 0.0055\n",
            "Epoch 190/200\n",
            "165/165 - 0s - loss: 0.0050\n",
            "Epoch 191/200\n",
            "165/165 - 0s - loss: 0.0052\n",
            "Epoch 192/200\n",
            "165/165 - 0s - loss: 0.0054\n",
            "Epoch 193/200\n",
            "165/165 - 0s - loss: 0.0052\n",
            "Epoch 194/200\n",
            "165/165 - 0s - loss: 0.0049\n",
            "Epoch 195/200\n",
            "165/165 - 0s - loss: 0.0055\n",
            "Epoch 196/200\n",
            "165/165 - 0s - loss: 0.0063\n",
            "Epoch 197/200\n",
            "165/165 - 0s - loss: 0.0055\n",
            "Epoch 198/200\n",
            "165/165 - 0s - loss: 0.0055\n",
            "Epoch 199/200\n",
            "165/165 - 0s - loss: 0.0048\n",
            "Epoch 200/200\n",
            "165/165 - 0s - loss: 0.0053\n"
          ],
          "name": "stdout"
        },
        {
          "output_type": "execute_result",
          "data": {
            "text/plain": [
              "<tensorflow.python.keras.callbacks.History at 0x7eff296b5e10>"
            ]
          },
          "metadata": {
            "tags": []
          },
          "execution_count": 9
        }
      ]
    },
    {
      "cell_type": "code",
      "metadata": {
        "colab": {
          "base_uri": "https://localhost:8080/"
        },
        "id": "HaohDb8efVWc",
        "outputId": "2af24e99-2911-4214-c233-fa846b6e6875"
      },
      "source": [
        "# make predictions\n",
        "trainPredict = model.predict(trainX)\n",
        "testPredict = model.predict(testX)\n",
        "# invert predictions\n",
        "trainPredict = scaler.inverse_transform(trainPredict)\n",
        "trainY = scaler.inverse_transform([trainY])\n",
        "testPredict = scaler.inverse_transform(testPredict)\n",
        "testY = scaler.inverse_transform([testY])\n",
        "# calculate root mean squared error\n",
        "trainScore = math.sqrt(mean_squared_error(trainY[0], trainPredict[:,0]))\n",
        "print('Train Score: %.2f RMSE' % (trainScore))\n",
        "testScore = math.sqrt(mean_squared_error(testY[0], testPredict[:,0]))\n",
        "print('Test Score: %.2f RMSE' % (testScore))"
      ],
      "execution_count": null,
      "outputs": [
        {
          "output_type": "stream",
          "text": [
            "Train Score: 370.23 RMSE\n",
            "Test Score: 802.98 RMSE\n"
          ],
          "name": "stdout"
        }
      ]
    },
    {
      "cell_type": "code",
      "metadata": {
        "colab": {
          "base_uri": "https://localhost:8080/",
          "height": 269
        },
        "id": "Gjtjal6ufkQ6",
        "outputId": "61dae1cf-be81-45d6-98d6-145cdad0a05f"
      },
      "source": [
        "# shift train predictions for plotting\n",
        "trainPredictPlot = numpy.empty_like(dataset)\n",
        "trainPredictPlot[:, :] = numpy.nan\n",
        "trainPredictPlot[look_back:len(trainPredict)+look_back, :] = trainPredict\n",
        "# shift test predictions for plotting\n",
        "testPredictPlot = numpy.empty_like(dataset)\n",
        "testPredictPlot[:, :] = numpy.nan\n",
        "testPredictPlot[len(trainPredict)+(look_back*2)+1:len(dataset)-1, :] = testPredict\n",
        "# plot baseline and predictions\n",
        "plt.plot(scaler.inverse_transform(dataset))\n",
        "plt.plot(trainPredictPlot)\n",
        "plt.plot(testPredictPlot)\n",
        "plt.show()"
      ],
      "execution_count": null,
      "outputs": [
        {
          "output_type": "display_data",
          "data": {
            "image/png": "[encoded data removed]",
            "text/plain": [
              "<Figure size 432x288 with 1 Axes>"
            ]
          },
          "metadata": {
            "tags": [],
            "needs_background": "light"
          }
        }
      ]
    },
    {
      "cell_type": "code",
      "metadata": {
        "id": "Km1bpb4Sg9bD",
        "colab": {
          "base_uri": "https://localhost:8080/"
        },
        "outputId": "51295816-32ad-40e3-d31c-98e70a95ecd5"
      },
      "source": [
        "trainPredict.flatten()"
      ],
      "execution_count": null,
      "outputs": [
        {
          "output_type": "execute_result",
          "data": {
            "text/plain": [
              "array([ 562.2472 ,  539.6252 ,  481.23062,  468.5031 ,  529.2386 ,\n",
              "        506.85364,  615.93884,  760.6071 , 1078.956  , 1198.8401 ,\n",
              "       1058.62   ,  751.4133 ,  607.9638 ,  513.7239 ,  477.83115,\n",
              "        477.83115,  460.04935,  488.8942 ,  528.3747 ,  572.7418 ,\n",
              "        577.1244 ,  584.1487 ,  518.8867 ,  762.44824, 1055.7186 ,\n",
              "       1208.6338 ,  852.61224,  689.4178 ,  577.1244 ,  624.8212 ,\n",
              "        815.2291 , 1150.9415 , 1461.2975 , 1530.0055 ,  872.34546,\n",
              "        604.42523,  525.7841 ,  489.74686,  549.1765 ,  553.5276 ,\n",
              "        518.8867 ,  511.14572,  655.1864 ,  875.17035,  859.182  ,\n",
              "        868.58124, 1057.6528 , 1158.7505 , 1395.3916 , 1139.2368 ,\n",
              "        993.1    ,  762.44824,  696.6629 ,  704.8294 ,  788.30145,\n",
              "        840.43274,  898.766  , 1558.399  , 1382.5964 , 1408.1852 ,\n",
              "       1357.9895 , 1140.2118 ,  862.9397 ,  745.9064 ,  592.9497 ,\n",
              "        578.0016 ,  725.774  ,  887.4279 , 1321.5781 , 1572.0876 ,\n",
              "       1854.1595 , 2339.2202 , 2550.4878 , 1072.1724 ,  730.3412 ,\n",
              "        665.06396,  607.0788 ,  639.0792 ,  861.0604 , 1101.2783 ,\n",
              "       1230.1992 , 1127.5438 ,  937.66736,  670.46265,  563.1204 ,\n",
              "        602.6573 ,  663.26605,  679.47736,  610.6201 ,  648.9141 ,\n",
              "        733.9985 ,  742.2389 ,  742.2389 , 1052.818  , 1098.3639 ,\n",
              "       1172.4271 , 1377.675  , 1488.8053 , 1185.1388 , 1047.0198 ,\n",
              "        900.65784, 1201.7777 , 1991.9485 , 3081.2415 , 3437.9377 ,\n",
              "       3356.3447 , 3021.7305 , 1652.936  , 1181.2262 ,  964.372  ,\n",
              "       1004.6231 , 1064.4258 , 1172.4271 , 1304.8555 , 2039.3789 ,\n",
              "       1766.7045 , 1718.6927 , 1650.0239 , 1551.55   , 1630.5902 ,\n",
              "       1379.6437 , 1565.2452 , 1438.6835 , 1361.9265 , 1336.3376 ,\n",
              "       1591.6194 , 1889.9038 , 3014.2424 , 3200.1653 , 2732.0193 ,\n",
              "       2082.66   , 1251.788  , 1184.1605 ,  936.71576, 1075.0792 ,\n",
              "        864.8195 ,  651.601  ,  748.659  ,  746.8238 ,  779.05145,\n",
              "        701.1978 ,  631.0522 ,  857.304  ,  812.43646,  801.28217,\n",
              "        754.1695 ,  789.2274 ,  782.7492 ,  709.37354,  771.66473,\n",
              "        804.06836, 1746.5774 , 1464.246  , 1757.1272 , 2422.5273 ,\n",
              "       2536.2449 , 2622.9873 , 1726.395  , 1061.5225 ,  770.74225,\n",
              "        757.847  , 1047.0198 , 1164.6102 , 1142.1622 ,  978.7216 ],\n",
              "      dtype=float32)"
            ]
          },
          "metadata": {
            "tags": []
          },
          "execution_count": 12
        }
      ]
    },
    {
      "cell_type": "markdown",
      "metadata": {
        "id": "9Z984V0QRTmX"
      },
      "source": [
        ""
      ]
    },
    {
      "cell_type": "code",
      "metadata": {
        "colab": {
          "base_uri": "https://localhost:8080/"
        },
        "id": "JDGjuzrAd_Jt",
        "outputId": "931ac55f-cd88-41a9-e54b-1a3b2d16dae1"
      },
      "source": [
        "testPredict.flatten()"
      ],
      "execution_count": null,
      "outputs": [
        {
          "output_type": "execute_result",
          "data": {
            "text/plain": [
              "array([ 825.4821 ,  711.19257,  697.5696 ,  732.1695 ,  746.8238 ,\n",
              "        870.46313,  992.1406 , 1086.7147 , 1538.8225 , 2619.395  ,\n",
              "       2809.1611 , 3301.562  , 3725.309  , 3015.852  , 1918.8838 ,\n",
              "       1666.5133 , 1109.054  ,  786.44995,  788.30145,  993.1    ,\n",
              "       1152.8933 , 1897.3983 , 2966.5037 , 3037.5967 ], dtype=float32)"
            ]
          },
          "metadata": {
            "tags": []
          },
          "execution_count": 13
        }
      ]
    },
    {
      "cell_type": "code",
      "metadata": {
        "colab": {
          "base_uri": "https://localhost:8080/"
        },
        "id": "Vga4F3DneMHW",
        "outputId": "803deedc-7426-47e8-9acd-cbc954cfded1"
      },
      "source": [
        "testY"
      ],
      "execution_count": null,
      "outputs": [
        {
          "output_type": "execute_result",
          "data": {
            "text/plain": [
              "array([[ 655.9999975 ,  641.00001861,  679.00000516,  694.99998264,\n",
              "         828.00003565,  956.00001564, 1053.99999781, 1514.99998952,\n",
              "        2751.00017154, 3031.00009773, 4010.00000094, 5742.99964362,\n",
              "        3383.99992119, 1911.00007271, 1645.99996528, 1076.99996544,\n",
              "         738.00000219,  739.99999937,  957.00001423, 1122.00006224,\n",
              "        1888.00010508, 3293.99972759, 3425.00002361, 1792.00008006]])"
            ]
          },
          "metadata": {
            "tags": []
          },
          "execution_count": 14
        }
      ]
    },
    {
      "cell_type": "code",
      "metadata": {
        "id": "_L_Resyvh9Co"
      },
      "source": [
        ""
      ],
      "execution_count": null,
      "outputs": []
    }
  ]
}